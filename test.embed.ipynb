{
 "cells": [
  {
   "cell_type": "markdown",
   "metadata": {},
   "source": [
    "# Untitled"
   ],
   "id": "e2e0c080-8d62-4b32-835d-175eb3ee8f6a"
  },
  {
   "cell_type": "code",
   "execution_count": null,
   "metadata": {},
   "outputs": [],
   "source": [
    "x <- round(digits = 2, pi)\n",
    "\n",
    "latexify <- function(x) {\n",
    "  paste0(\"$\", paste(x, collapse=\", \"), \"$\")\n",
    "}"
   ],
   "id": "323b7b61-3dcb-4672-917b-cb93207892fc"
  },
  {
   "cell_type": "markdown",
   "metadata": {},
   "source": [
    "Blah blah blah $3.14$ blah."
   ],
   "id": "850f10b6-98b5-45d1-821f-460fa4e44bee"
  }
 ],
 "nbformat": 4,
 "nbformat_minor": 5,
 "metadata": {}
}
