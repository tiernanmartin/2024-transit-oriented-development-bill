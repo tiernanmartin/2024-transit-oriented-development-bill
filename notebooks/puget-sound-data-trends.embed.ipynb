{
 "cells": [
  {
   "cell_type": "markdown",
   "metadata": {},
   "source": [
    "# Central Puget Sound Data Trends (2010 - 2023)\n",
    "\n",
    "Tiernan Martin"
   ],
   "id": "206ec437-0d11-48aa-a180-59f418128b68"
  },
  {
   "cell_type": "code",
   "execution_count": null,
   "metadata": {},
   "outputs": [
    {
     "output_type": "stream",
     "name": "stderr",
     "text": [
      "── Attaching core tidyverse packages ──────────────────────── tidyverse 2.0.0 ──\n",
      "✔ dplyr     1.1.3     ✔ readr     2.1.4\n",
      "✔ forcats   1.0.0     ✔ stringr   1.5.0\n",
      "✔ ggplot2   3.4.4     ✔ tibble    3.2.1\n",
      "✔ lubridate 1.9.2     ✔ tidyr     1.3.0\n",
      "✔ purrr     1.0.2     \n",
      "── Conflicts ────────────────────────────────────────── tidyverse_conflicts() ──\n",
      "✖ dplyr::filter() masks stats::filter()\n",
      "✖ dplyr::lag()    masks stats::lag()\n",
      "ℹ Use the conflicted package (<http://conflicted.r-lib.org/>) to force all conflicts to become errors"
     ]
    },
    {
     "output_type": "stream",
     "name": "stderr",
     "text": [
      "\n",
      "Attaching package: 'scales'\n",
      "\n",
      "The following object is masked from 'package:purrr':\n",
      "\n",
      "    discard\n",
      "\n",
      "The following object is masked from 'package:readr':\n",
      "\n",
      "    col_factor"
     ]
    },
    {
     "output_type": "stream",
     "name": "stderr",
     "text": [
      "\n",
      "Attaching package: 'janitor'\n",
      "\n",
      "The following objects are masked from 'package:stats':\n",
      "\n",
      "    chisq.test, fisher.test"
     ]
    },
    {
     "output_type": "stream",
     "name": "stderr",
     "text": [
      "here() starts at C:/Users/tiern/Documents/R/2024-transit-oriented-development-bill"
     ]
    },
    {
     "output_type": "stream",
     "name": "stderr",
     "text": [
      "Linking to GEOS 3.11.2, GDAL 3.7.2, PROJ 9.3.0; sf_use_s2() is TRUE"
     ]
    }
   ],
   "source": [
    "#| label: setup\n",
    "#| echo: false\n",
    "#| include: false\n",
    "\n",
    "library(tidyverse)"
   ],
   "id": "1c98c168-bc1a-4aff-b614-51903690856f"
  },
  {
   "cell_type": "markdown",
   "metadata": {},
   "source": [
    "## Data\n",
    "\n",
    "This analysis uses data from Washington State’s Office of Financial Management: [Historical estimates of April 1 population and housing for the state, counties, and cities](https://ofm.wa.gov/washington-data-research/population-demographics/population-estimates/historical-estimates-april-1-population-and-housing-state-counties-and-cities)\n",
    "\n",
    "### Change in Population"
   ],
   "id": "44d76e32-be25-41e9-9b17-456b6dc38d3f"
  },
  {
   "cell_type": "code",
   "execution_count": null,
   "metadata": {},
   "outputs": [
    {
     "output_type": "stream",
     "name": "stderr",
     "text": [
      "New names:\n",
      "• `` -> `...16`\n",
      "• `` -> `...18`\n",
      "• `` -> `...20`\n",
      "• `` -> `...22`\n",
      "• `` -> `...24`\n",
      "• `` -> `...26`\n",
      "• `` -> `...28`\n",
      "• `` -> `...30`\n",
      "• `` -> `...32`\n",
      "• `` -> `...34`\n",
      "• `` -> `...36`\n",
      "• `` -> `...38`\n",
      "• `` -> `...40`\n",
      "• `` -> `...42`\n",
      "• `` -> `...44`\n",
      "• `` -> `...46`\n",
      "• `` -> `...48`\n",
      "• `` -> `...50`\n",
      "• `` -> `...52`\n",
      "• `` -> `...54`\n",
      "• `` -> `...56`\n",
      "• `` -> `...58`\n",
      "• `` -> `...60`\n",
      "• `` -> `...62`\n",
      "• `` -> `...64`\n",
      "• `` -> `...66`\n",
      "• `` -> `...68`\n",
      "• `` -> `...70`\n",
      "• `` -> `...72`\n",
      "• `` -> `...74`\n",
      "• `` -> `...76`\n",
      "• `` -> `...78`\n",
      "• `` -> `...80`\n",
      "• `` -> `...82`\n",
      "• `` -> `...84`\n",
      "• `` -> `...86`\n",
      "• `` -> `...88`\n",
      "• `` -> `...90`\n",
      "• `` -> `...92`\n",
      "• `` -> `...94`\n",
      "• `` -> `...96`\n",
      "• `` -> `...98`\n",
      "• `` -> `...100`\n",
      "• `` -> `...102`\n",
      "• `` -> `...104`\n",
      "• `` -> `...106`\n",
      "• `` -> `...108`\n",
      "• `` -> `...110`\n",
      "• `` -> `...112`\n",
      "• `` -> `...114`\n",
      "• `` -> `...116`\n",
      "• `` -> `...118`\n",
      "• `` -> `...120`\n",
      "• `` -> `...122`\n",
      "• `` -> `...124`\n",
      "• `` -> `...126`\n",
      "• `` -> `...128`"
     ]
    },
    {
     "output_type": "stream",
     "name": "stderr",
     "text": [
      "Warning: There was 1 warning in `mutate()`.\n",
      "ℹ In argument: `value = as.numeric(value)`.\n",
      "Caused by warning:\n",
      "! NAs introduced by coercion"
     ]
    },
    {
     "output_type": "stream",
     "name": "stdout",
     "text": [
      "# A tibble: 2 × 5\n",
      "  pugetsound pop_2010 pop_2023 pop_change pop_change_pct\n",
      "  <lgl>         <dbl>    <dbl>      <dbl>          <dbl>\n",
      "1 FALSE        470300   554600      84300           0.18\n",
      "2 TRUE        1933400  2347800     414400           0.21"
     ]
    }
   ],
   "source": [
    "#| label: \"population-change-2010-2023\"\n",
    "#| include: false\n",
    "\n",
    "pop_fp <- here(\"data/ofm_april1_postcensal_estimates_pop_1960-present.xlsx\")\n",
    "\n",
    "pop_df <- read_excel(pop_fp, sheet = \"Population\", skip = 3) |> \n",
    "  clean_names()"
   ],
   "id": "1fc04083-bf44-4726-a315-19286bf7517a"
  },
  {
   "cell_type": "code",
   "execution_count": null,
   "metadata": {},
   "outputs": [
    {
     "output_type": "stream",
     "name": "stderr",
     "text": [
      "Getting data from the 2018-2022 5-year ACS"
     ]
    },
    {
     "output_type": "stream",
     "name": "stderr",
     "text": [
      "Downloading feature geometry from the Census website.  To cache shapefiles for use in future sessions, set `options(tigris_use_cache = TRUE)`."
     ]
    },
    {
     "output_type": "stream",
     "name": "stdout",
     "text": [
      "\n",
      "  |                                                                            \n",
      "  |                                                                      |   0%\n",
      "  |                                                                            \n",
      "  |===                                                                   |   4%\n",
      "  |                                                                            \n",
      "  |=====                                                                 |   7%\n",
      "  |                                                                            \n",
      "  |======                                                                |   9%\n",
      "  |                                                                            \n",
      "  |=========                                                             |  12%\n",
      "  |                                                                            \n",
      "  |============                                                          |  16%\n",
      "  |                                                                            \n",
      "  |=================                                                     |  24%\n",
      "  |                                                                            \n",
      "  |====================                                                  |  28%\n",
      "  |                                                                            \n",
      "  |======================                                                |  32%\n",
      "  |                                                                            \n",
      "  |=========================                                             |  35%\n",
      "  |                                                                            \n",
      "  |==========================                                            |  37%\n",
      "  |                                                                            \n",
      "  |=============================                                         |  42%\n",
      "  |                                                                            \n",
      "  |================================                                      |  45%\n",
      "  |                                                                            \n",
      "  |===================================                                   |  50%\n",
      "  |                                                                            \n",
      "  |======================================                                |  54%\n",
      "  |                                                                            \n",
      "  |========================================                              |  58%\n",
      "  |                                                                            \n",
      "  |==========================================                            |  59%\n",
      "  |                                                                            \n",
      "  |==================================================                    |  71%\n",
      "  |                                                                            \n",
      "  |====================================================                  |  75%\n",
      "  |                                                                            \n",
      "  |=======================================================               |  78%\n",
      "  |                                                                            \n",
      "  |=========================================================             |  82%\n",
      "  |                                                                            \n",
      "  |==========================================================            |  84%\n",
      "  |                                                                            \n",
      "  |=============================================================         |  87%\n",
      "  |                                                                            \n",
      "  |================================================================      |  91%\n",
      "  |                                                                            \n",
      "  |======================================================================| 100%"
     ]
    },
    {
     "output_type": "stream",
     "name": "stderr",
     "text": [
      "Joining with `by = join_by(geoid)`"
     ]
    },
    {
     "output_type": "stream",
     "name": "stdout",
     "text": [
      "Deleting layer `ps-cities-pop-hu' using driver `GPKG'\n",
      "Writing layer `ps-cities-pop-hu' to data source \n",
      "  `C:/Users/tiern/Documents/R/2024-transit-oriented-development-bill/data_outputs/2024-tod-bill.gpkg' using driver `GPKG'\n",
      "Writing 212 features with 4 fields and geometry type Multi Polygon."
     ]
    }
   ],
   "source": [
    "#| label: \"pop-cities-2022\"\n",
    "\n",
    "ps_data_cities <- get_acs(\n",
    "  geometry = TRUE, \n",
    "  geography = \"place\", \n",
    "  variables = c(population = \"B01003_001\",\n",
    "                housing_units = \"B25001_001\"), \n",
    "  state = \"WA\", \n",
    "  year = 2022, \n",
    "  survey = \"acs5\" \n",
    ") |> clean_names()"
   ],
   "id": "fc10554d-5d30-4cc3-8de9-b242504f8bd5"
  },
  {
   "cell_type": "code",
   "execution_count": null,
   "metadata": {},
   "outputs": [],
   "source": [
    "#| label: pop-change-r-objects\n",
    "#| output: false\n",
    "\n",
    "pugetsound_pop_growth_2010_2023 <- pop_growth |> filter(pugetsound) |> pluck(\"pop_change\")\n",
    "\n",
    "saveRDS(pugetsound_pop_growth_2010_2023,\n",
    "        here(\"data_outputs/pugetsound_pop_growth_2010_2023.rds\"))\n",
    "\n",
    "outside_pop_growth_2010_2023 <- pop_growth |> filter(!pugetsound) |> pluck(\"pop_change\")\n",
    "\n",
    "saveRDS(outside_pop_growth_2010_2023,\n",
    "        here(\"data_outputs/outside_pop_growth_2010_2023.rds\"))\n",
    "\n",
    "pop_change_pct <- pop_growth |> filter(pugetsound) |> pluck(\"pop_change_pct\")\n",
    "\n",
    "pop_change_text <- glue(\"{comma(pugetsound_pop_growth_2010_2023)} people (a {percent(pop_change_pct)} increase)\")"
   ],
   "id": "f3256bf1-e488-4367-981d-fc2072025121"
  },
  {
   "cell_type": "markdown",
   "metadata": {},
   "source": [
    "### Change in Housing Units"
   ],
   "id": "353179a9-429e-42bb-969b-d2c30a74dbd8"
  },
  {
   "cell_type": "code",
   "execution_count": null,
   "metadata": {},
   "outputs": [
    {
     "output_type": "stream",
     "name": "stdout",
     "text": [
      "# A tibble: 2 × 2\n",
      "  pugetsound     hu\n",
      "  <lgl>       <dbl>\n",
      "1 FALSE      179786\n",
      "2 TRUE       276177"
     ]
    }
   ],
   "source": [
    "#| label: \"housing-change-2010-2023\"\n",
    "#| output: true\n",
    "\n",
    "uh_fp <- here(\"data/ofm_april1_postcensal_estimates_housing_1980_1990-present.xlsx\")\n",
    "\n",
    "hu_df <- read_excel(uh_fp, sheet = \"Housing Units\", skip = 3) |>  \n",
    "  clean_names()\n",
    "\n",
    "hu_growth_2010_2023 <- hu_df |> \n",
    "  filter(filter %in% \"1\") |> \n",
    "  pivot_longer(cols = x1980_census_count_of_total_housing_units:last_col()) |> \n",
    "  mutate(value = as.numeric(value),\n",
    "         pugetsound = case_when(\n",
    "           county %in% c(\"King\",\n",
    "                         \"Snohomish\",\n",
    "                         \"Kitsap\",\n",
    "                         \"Pierce\") ~ TRUE,\n",
    "           TRUE ~ FALSE\n",
    "         )) |> \n",
    "  # filter(str_detect(name,\"postcensal\")) |> \n",
    "  filter(str_detect(name,\"total\")) |> \n",
    "  filter(str_detect(name, \"2010|2023\")) |>  \n",
    "  mutate(name = str_c(\"hu_\", str_extract(name,\"\\\\d{4}\"))) |> \n",
    "  pivot_wider(names_from = name,\n",
    "              values_from = value) |> \n",
    "  group_by(pugetsound) |> \n",
    "  summarise(hu = sum(hu_2023) - sum(hu_2010))\n",
    "\n",
    "hu_growth_2010_2023"
   ],
   "id": "38fae78e-cb02-4496-a349-030e262b648d"
  },
  {
   "cell_type": "code",
   "execution_count": null,
   "metadata": {},
   "outputs": [],
   "source": [
    "#| label: \"hu-change-r-objects\"\n",
    "#| output: false\n",
    "\n",
    "pugetsound_hu_growth_2010_2023 <- hu_growth_2010_2023 |> filter(pugetsound) |> pluck(\"hu\")\n",
    "\n",
    "saveRDS(pugetsound_hu_growth_2010_2023,\n",
    "        here(\"data_outputs/pugetsound_hu_growth_2010_2023.rds\"))\n",
    "\n",
    "\n",
    "outside_hu_pop_growth_2010_2023 <- hu_growth_2010_2023 |> filter(!pugetsound) |> pluck(\"hu\")\n",
    "\n",
    "saveRDS(outside_hu_pop_growth_2010_2023,\n",
    "        here(\"data_outputs/outside_hu_growth_2010_2023.rds\"))"
   ],
   "id": "d482f515-7b56-4c43-bac0-de041e84f993"
  }
 ],
 "nbformat": 4,
 "nbformat_minor": 5,
 "metadata": {}
}
