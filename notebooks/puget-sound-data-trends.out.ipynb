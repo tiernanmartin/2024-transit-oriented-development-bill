{
 "cells": [
  {
   "cell_type": "markdown",
   "metadata": {},
   "source": [
    "# Central Puget Sound Data Trends (2010 - 2023)\n",
    "\n",
    "Tiernan Martin"
   ],
   "id": "b0a70fa8-e835-473d-a7e0-d0bb58855a68"
  },
  {
   "cell_type": "code",
   "execution_count": null,
   "metadata": {},
   "outputs": [
    {
     "output_type": "stream",
     "name": "stderr",
     "text": [
      "── Attaching core tidyverse packages ──────────────────────── tidyverse 2.0.0 ──\n",
      "✔ dplyr     1.1.3     ✔ readr     2.1.4\n",
      "✔ forcats   1.0.0     ✔ stringr   1.5.0\n",
      "✔ ggplot2   3.4.4     ✔ tibble    3.2.1\n",
      "✔ lubridate 1.9.2     ✔ tidyr     1.3.0\n",
      "✔ purrr     1.0.2     \n",
      "── Conflicts ────────────────────────────────────────── tidyverse_conflicts() ──\n",
      "✖ dplyr::filter() masks stats::filter()\n",
      "✖ dplyr::lag()    masks stats::lag()\n",
      "ℹ Use the conflicted package (<http://conflicted.r-lib.org/>) to force all conflicts to become errors"
     ]
    },
    {
     "output_type": "stream",
     "name": "stderr",
     "text": [
      "\n",
      "Attaching package: 'scales'\n",
      "\n",
      "The following object is masked from 'package:purrr':\n",
      "\n",
      "    discard\n",
      "\n",
      "The following object is masked from 'package:readr':\n",
      "\n",
      "    col_factor"
     ]
    },
    {
     "output_type": "stream",
     "name": "stderr",
     "text": [
      "\n",
      "Attaching package: 'janitor'\n",
      "\n",
      "The following objects are masked from 'package:stats':\n",
      "\n",
      "    chisq.test, fisher.test"
     ]
    },
    {
     "output_type": "stream",
     "name": "stderr",
     "text": [
      "here() starts at C:/Users/tiern/Documents/R/2024-transit-oriented-development-bill"
     ]
    }
   ],
   "source": [
    "\n",
    "library(tidyverse)\n"
   ],
   "id": "f9108e9e-aebd-4fa4-a080-f8e35781461d"
  },
  {
   "cell_type": "markdown",
   "metadata": {},
   "source": [
    "## Data\n",
    "\n",
    "This analysis uses data from Washington State’s Office of Financial Management: [Historical estimates of April 1 population and housing for the state, counties, and cities](https://ofm.wa.gov/washington-data-research/population-demographics/population-estimates/historical-estimates-april-1-population-and-housing-state-counties-and-cities)\n",
    "\n",
    "### Change in Population"
   ],
   "id": "5094ba9a-e41e-4f50-9da3-ffa080f80a31"
  },
  {
   "cell_type": "code",
   "execution_count": null,
   "metadata": {},
   "outputs": [
    {
     "output_type": "stream",
     "name": "stderr",
     "text": [
      "New names:\n",
      "• `` -> `...16`\n",
      "• `` -> `...18`\n",
      "• `` -> `...20`\n",
      "• `` -> `...22`\n",
      "• `` -> `...24`\n",
      "• `` -> `...26`\n",
      "• `` -> `...28`\n",
      "• `` -> `...30`\n",
      "• `` -> `...32`\n",
      "• `` -> `...34`\n",
      "• `` -> `...36`\n",
      "• `` -> `...38`\n",
      "• `` -> `...40`\n",
      "• `` -> `...42`\n",
      "• `` -> `...44`\n",
      "• `` -> `...46`\n",
      "• `` -> `...48`\n",
      "• `` -> `...50`\n",
      "• `` -> `...52`\n",
      "• `` -> `...54`\n",
      "• `` -> `...56`\n",
      "• `` -> `...58`\n",
      "• `` -> `...60`\n",
      "• `` -> `...62`\n",
      "• `` -> `...64`\n",
      "• `` -> `...66`\n",
      "• `` -> `...68`\n",
      "• `` -> `...70`\n",
      "• `` -> `...72`\n",
      "• `` -> `...74`\n",
      "• `` -> `...76`\n",
      "• `` -> `...78`\n",
      "• `` -> `...80`\n",
      "• `` -> `...82`\n",
      "• `` -> `...84`\n",
      "• `` -> `...86`\n",
      "• `` -> `...88`\n",
      "• `` -> `...90`\n",
      "• `` -> `...92`\n",
      "• `` -> `...94`\n",
      "• `` -> `...96`\n",
      "• `` -> `...98`\n",
      "• `` -> `...100`\n",
      "• `` -> `...102`\n",
      "• `` -> `...104`\n",
      "• `` -> `...106`\n",
      "• `` -> `...108`\n",
      "• `` -> `...110`\n",
      "• `` -> `...112`\n",
      "• `` -> `...114`\n",
      "• `` -> `...116`\n",
      "• `` -> `...118`\n",
      "• `` -> `...120`\n",
      "• `` -> `...122`\n",
      "• `` -> `...124`\n",
      "• `` -> `...126`\n",
      "• `` -> `...128`"
     ]
    },
    {
     "output_type": "stream",
     "name": "stderr",
     "text": [
      "Warning: There was 1 warning in `mutate()`.\n",
      "ℹ In argument: `value = as.numeric(value)`.\n",
      "Caused by warning:\n",
      "! NAs introduced by coercion"
     ]
    },
    {
     "output_type": "stream",
     "name": "stdout",
     "text": [
      "# A tibble: 2 × 5\n",
      "  pugetsound pop_2010 pop_2023 pop_change pop_change_pct\n",
      "  <lgl>         <dbl>    <dbl>      <dbl>          <dbl>\n",
      "1 FALSE        470300   554600      84300           0.18\n",
      "2 TRUE        1933400  2347800     414400           0.21"
     ]
    }
   ],
   "source": [
    "\n",
    "pop_fp <- here(\"data/ofm_april1_postcensal_estimates_pop_1960-present.xlsx\")\n",
    "\n",
    "pop_df <- read_excel(pop_fp, sheet = \"Population\", skip = 3) |> \n",
    "  clean_names()\n"
   ],
   "id": "34e38ee7-0526-40a2-9f23-d8622a3db8fa"
  },
  {
   "cell_type": "code",
   "execution_count": null,
   "metadata": {},
   "outputs": [],
   "source": [
    "\n",
    "pugetsound_pop_growth_2010_2023 <- pop_growth |> filter(pugetsound) |> pluck(\"pop_change\")\n",
    "\n",
    "saveRDS(pugetsound_pop_growth_2010_2023,\n",
    "        here(\"data_outputs/pugetsound_pop_growth_2010_2023.rds\"))\n",
    "\n",
    "outside_pop_growth_2010_2023 <- pop_growth |> filter(!pugetsound) |> pluck(\"pop_change\")\n",
    "\n",
    "saveRDS(outside_pop_growth_2010_2023,\n",
    "        here(\"data_outputs/outside_pop_growth_2010_2023.rds\"))\n",
    "\n",
    "pop_change_pct <- pop_growth |> filter(pugetsound) |> pluck(\"pop_change_pct\")\n",
    "\n",
    "pop_change_text <- glue(\"{comma(pugetsound_pop_growth_2010_2023)} people (a {percent(pop_change_pct)} increase)\")\n"
   ],
   "id": "e0994ec6-e500-4343-aa14-46dba6dfa317"
  },
  {
   "cell_type": "markdown",
   "metadata": {},
   "source": [
    "### Change in Housing Units"
   ],
   "id": "8b1ea656-4a43-45e5-80cb-34cf71c0c250"
  },
  {
   "cell_type": "code",
   "execution_count": null,
   "metadata": {},
   "outputs": [
    {
     "output_type": "stream",
     "name": "stdout",
     "text": [
      "# A tibble: 2 × 2\n",
      "  pugetsound     hu\n",
      "  <lgl>       <dbl>\n",
      "1 FALSE      179786\n",
      "2 TRUE       276177"
     ]
    }
   ],
   "source": [
    "\n",
    "uh_fp <- here(\"data/ofm_april1_postcensal_estimates_housing_1980_1990-present.xlsx\")\n",
    "\n",
    "hu_df <- read_excel(uh_fp, sheet = \"Housing Units\", skip = 3) |>  \n",
    "  clean_names()\n",
    "\n",
    "hu_growth_2010_2023 <- hu_df |> \n",
    "  filter(filter %in% \"1\") |> \n",
    "  pivot_longer(cols = x1980_census_count_of_total_housing_units:last_col()) |> \n",
    "  mutate(value = as.numeric(value),\n",
    "         pugetsound = case_when(\n",
    "           county %in% c(\"King\",\n",
    "                         \"Snohomish\",\n",
    "                         \"Kitsap\",\n",
    "                         \"Pierce\") ~ TRUE,\n",
    "           TRUE ~ FALSE\n",
    "         )) |> \n",
    "  # filter(str_detect(name,\"postcensal\")) |> \n",
    "  filter(str_detect(name,\"total\")) |> \n",
    "  filter(str_detect(name, \"2010|2023\")) |>  \n",
    "  mutate(name = str_c(\"hu_\", str_extract(name,\"\\\\d{4}\"))) |> \n",
    "  pivot_wider(names_from = name,\n",
    "              values_from = value) |> \n",
    "  group_by(pugetsound) |> \n",
    "  summarise(hu = sum(hu_2023) - sum(hu_2010))\n",
    "\n",
    "hu_growth_2010_2023\n"
   ],
   "id": "bd0dcac4-8f95-476f-bf96-50315f975810"
  },
  {
   "cell_type": "code",
   "execution_count": null,
   "metadata": {},
   "outputs": [],
   "source": [
    "\n",
    "pugetsound_hu_growth_2010_2023 <- hu_growth_2010_2023 |> filter(pugetsound) |> pluck(\"hu\")\n",
    "\n",
    "saveRDS(pugetsound_hu_growth_2010_2023,\n",
    "        here(\"data_outputs/pugetsound_hu_growth_2010_2023.rds\"))\n",
    "\n",
    "\n",
    "outside_hu_pop_growth_2010_2023 <- hu_growth_2010_2023 |> filter(!pugetsound) |> pluck(\"hu\")\n",
    "\n",
    "saveRDS(outside_hu_pop_growth_2010_2023,\n",
    "        here(\"data_outputs/outside_hu_growth_2010_2023.rds\"))\n"
   ],
   "id": "8fe81a82-6353-420b-8e0d-e074bb60893d"
  }
 ],
 "nbformat": 4,
 "nbformat_minor": 5,
 "metadata": {}
}
