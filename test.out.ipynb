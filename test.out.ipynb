{
 "cells": [
  {
   "cell_type": "markdown",
   "metadata": {},
   "source": [
    "# Untitled"
   ],
   "id": "7a7a069d-688e-4d78-8ee1-5be3b3246c4b"
  },
  {
   "cell_type": "code",
   "execution_count": null,
   "metadata": {},
   "outputs": [],
   "source": [
    "x <- round(digits = 2, pi)\n",
    "\n",
    "latexify <- function(x) {\n",
    "  paste0(\"$\", paste(x, collapse=\", \"), \"$\")\n",
    "}\n"
   ],
   "id": "4cc6e765-e666-4276-b71e-856ddb8e72fc"
  },
  {
   "cell_type": "markdown",
   "metadata": {},
   "source": [
    "Blah blah blah $3.14$ blah."
   ],
   "id": "2b6e05e9-c257-4a34-be6c-a1ae4ba8f539"
  }
 ],
 "nbformat": 4,
 "nbformat_minor": 5,
 "metadata": {}
}
